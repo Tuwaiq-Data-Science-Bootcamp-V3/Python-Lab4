{
 "cells": [
  {
   "cell_type": "code",
   "execution_count": 7,
   "id": "e55392c4",
   "metadata": {},
   "outputs": [],
   "source": [
    "def one (x):\n",
    "    for i in range(x, 0, -1):\n",
    "        for j in range(i, 0,-1):\n",
    "            print(j, end='')\n",
    "        print(\"\\r\")\n",
    "   \n"
   ]
  },
  {
   "cell_type": "code",
   "execution_count": 8,
   "id": "22339c4a",
   "metadata": {},
   "outputs": [
    {
     "name": "stdout",
     "output_type": "stream",
     "text": [
      "54321\r\n",
      "4321\r\n",
      "321\r\n",
      "21\r\n",
      "1\r\n"
     ]
    }
   ],
   "source": [
    "one(5)"
   ]
  }
 ],
 "metadata": {
  "kernelspec": {
   "display_name": "Python 3 (ipykernel)",
   "language": "python",
   "name": "python3"
  },
  "language_info": {
   "codemirror_mode": {
    "name": "ipython",
    "version": 3
   },
   "file_extension": ".py",
   "mimetype": "text/x-python",
   "name": "python",
   "nbconvert_exporter": "python",
   "pygments_lexer": "ipython3",
   "version": "3.9.13"
  }
 },
 "nbformat": 4,
 "nbformat_minor": 5
}
