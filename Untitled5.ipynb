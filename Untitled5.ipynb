{
 "cells": [
  {
   "cell_type": "markdown",
   "id": "00359fd7",
   "metadata": {},
   "source": [
    "# Create a function that takes one parameter of type int, then it prints out the result formatted like the following pattern (if we give it 5 for example):\n",
    "# 5 4 3 2 1\n",
    "# 4 3 2 1\n",
    "# 3 2 1\n",
    "# 2 1\n",
    "# 1"
   ]
  },
  {
   "cell_type": "code",
   "execution_count": 36,
   "id": "1d9fb69f",
   "metadata": {},
   "outputs": [],
   "source": [
    "def print_pattern(num):\n",
    "    for i in range(num, 0, -1):\n",
    "        row = \"\"\n",
    "        for j in range(i, 0, -1):\n",
    "            row += str(j) + \" \"\n",
    "        print(row)\n"
   ]
  },
  {
   "cell_type": "code",
   "execution_count": 37,
   "id": "3092cb6a",
   "metadata": {},
   "outputs": [
    {
     "name": "stdout",
     "output_type": "stream",
     "text": [
      "5 4 3 2 1 \n",
      "4 3 2 1 \n",
      "3 2 1 \n",
      "2 1 \n",
      "1 \n"
     ]
    }
   ],
   "source": [
    "print_pattern(5)"
   ]
  }
 ],
 "metadata": {
  "kernelspec": {
   "display_name": "Python 3 (ipykernel)",
   "language": "python",
   "name": "python3"
  },
  "language_info": {
   "codemirror_mode": {
    "name": "ipython",
    "version": 3
   },
   "file_extension": ".py",
   "mimetype": "text/x-python",
   "name": "python",
   "nbconvert_exporter": "python",
   "pygments_lexer": "ipython3",
   "version": "3.9.13"
  }
 },
 "nbformat": 4,
 "nbformat_minor": 5
}
