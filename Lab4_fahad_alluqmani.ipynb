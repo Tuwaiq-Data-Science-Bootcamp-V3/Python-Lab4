{
 "cells": [
  {
   "cell_type": "code",
   "execution_count": 1,
   "id": "bd2546a7",
   "metadata": {},
   "outputs": [
    {
     "name": "stdout",
     "output_type": "stream",
     "text": [
      "5 4 3 2 1 \n",
      "4 3 2 1 \n",
      "3 2 1 \n",
      "2 1 \n",
      "1 \n"
     ]
    }
   ],
   "source": [
    "def print_(n) :#\n",
    "    for i in range(n, 0,-1):# Start,Stop,step  used -1 to sub the numbers\n",
    "        for j in range(i, 0,-1):\n",
    "            print(j, end=\" \") #End to make space between numbers\n",
    "        print()# new line\n",
    "        \n",
    "\n",
    "        \n",
    "print_(5)"
   ]
  },
  {
   "cell_type": "code",
   "execution_count": null,
   "id": "d2eb6fba",
   "metadata": {},
   "outputs": [],
   "source": []
  }
 ],
 "metadata": {
  "kernelspec": {
   "display_name": "Python 3 (ipykernel)",
   "language": "python",
   "name": "python3"
  },
  "language_info": {
   "codemirror_mode": {
    "name": "ipython",
    "version": 3
   },
   "file_extension": ".py",
   "mimetype": "text/x-python",
   "name": "python",
   "nbconvert_exporter": "python",
   "pygments_lexer": "ipython3",
   "version": "3.10.9"
  }
 },
 "nbformat": 4,
 "nbformat_minor": 5
}
