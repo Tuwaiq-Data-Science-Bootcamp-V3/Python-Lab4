{
 "cells": [
  {
   "cell_type": "markdown",
   "id": "a5bd7036",
   "metadata": {},
   "source": [
    "# Zainab Melaibari"
   ]
  },
  {
   "cell_type": "markdown",
   "id": "e5811a5c",
   "metadata": {},
   "source": [
    "# Python-Lab4\n",
    "## Functions\n",
    "### Create a function that takes one parameter of type int, then it prints out the result formatted like the following pattern (if we give it 5 for example):\n",
    "5 4 3 2 1   \n",
    "4 3 2 1   \n",
    "3 2 1   \n",
    "2 1   \n",
    "1   \n"
   ]
  },
  {
   "cell_type": "code",
   "execution_count": 33,
   "id": "8260fb0a",
   "metadata": {},
   "outputs": [
    {
     "name": "stdout",
     "output_type": "stream",
     "text": [
      "\n",
      "5 4 3 2 1 \n",
      "4 3 2 1 \n",
      "3 2 1 \n",
      "2 1 \n",
      "1 "
     ]
    }
   ],
   "source": [
    "#define the function\n",
    "def formattedPrint(num):\n",
    "    \n",
    "    #loop over the numbers from the number to 1\n",
    "    for i in range(num,0,-1):\n",
    "        \n",
    "        print() #to print new line after every inner loop completion\n",
    "        \n",
    "        #loop over the numbers from i to 1\n",
    "        for j in range(i,0,-1):\n",
    "            \n",
    "            print(j,end=\" \") #to print the numbers in one line\n",
    "\n",
    "formattedPrint(5)"
   ]
  }
 ],
 "metadata": {
  "kernelspec": {
   "display_name": "Python 3 (ipykernel)",
   "language": "python",
   "name": "python3"
  },
  "language_info": {
   "codemirror_mode": {
    "name": "ipython",
    "version": 3
   },
   "file_extension": ".py",
   "mimetype": "text/x-python",
   "name": "python",
   "nbconvert_exporter": "python",
   "pygments_lexer": "ipython3",
   "version": "3.9.12"
  }
 },
 "nbformat": 4,
 "nbformat_minor": 5
}
