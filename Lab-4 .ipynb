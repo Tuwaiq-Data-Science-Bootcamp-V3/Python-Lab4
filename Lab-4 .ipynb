{
 "cells": [
  {
   "cell_type": "code",
   "execution_count": 51,
   "id": "e5ca3ca1",
   "metadata": {},
   "outputs": [
    {
     "name": "stdout",
     "output_type": "stream",
     "text": [
      "add number5\n",
      "5 4 3 2 1 \n",
      "4 3 2 1 \n",
      "3 2 1 \n",
      "2 1 \n",
      "1 \n"
     ]
    }
   ],
   "source": [
    "#help resource       \n",
    "#https://pynative.com/print-pattern-python-examples/  \n",
    "\n",
    "def desNum(x):\n",
    "    for i in range(x,0,-1):\n",
    "        for y in range (i,0,-1):\n",
    "            print(y,end=\" \")\n",
    "        print(\"\\r\")\n",
    "x=int(input(\"add number\"))\n",
    "desNum(x) \n",
    "\n",
    "  \n",
    "   \n",
    "\n",
    "    \n",
    "    \n",
    "    \n",
    "   "
   ]
  },
  {
   "cell_type": "code",
   "execution_count": null,
   "id": "29bf00e2",
   "metadata": {},
   "outputs": [],
   "source": []
  }
 ],
 "metadata": {
  "kernelspec": {
   "display_name": "Python 3 (ipykernel)",
   "language": "python",
   "name": "python3"
  },
  "language_info": {
   "codemirror_mode": {
    "name": "ipython",
    "version": 3
   },
   "file_extension": ".py",
   "mimetype": "text/x-python",
   "name": "python",
   "nbconvert_exporter": "python",
   "pygments_lexer": "ipython3",
   "version": "3.9.13"
  }
 },
 "nbformat": 4,
 "nbformat_minor": 5
}
