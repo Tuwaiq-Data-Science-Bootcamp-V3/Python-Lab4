{
 "cells": [
  {
   "cell_type": "code",
   "execution_count": 72,
   "id": "01cc5b0a",
   "metadata": {},
   "outputs": [],
   "source": [
    "def pattern(num):\n",
    "    for i in range(num, 0, -1):\n",
    "        print(' '.join(str(j) for j in range(i, 0, -1)))"
   ]
  },
  {
   "cell_type": "code",
   "execution_count": 73,
   "id": "272ced65",
   "metadata": {},
   "outputs": [
    {
     "name": "stdout",
     "output_type": "stream",
     "text": [
      "5 4 3 2 1\n",
      "4 3 2 1\n",
      "3 2 1\n",
      "2 1\n",
      "1\n"
     ]
    }
   ],
   "source": [
    "pattern(5)"
   ]
  }
 ],
 "metadata": {
  "kernelspec": {
   "display_name": "Python 3 (ipykernel)",
   "language": "python",
   "name": "python3"
  },
  "language_info": {
   "codemirror_mode": {
    "name": "ipython",
    "version": 3
   },
   "file_extension": ".py",
   "mimetype": "text/x-python",
   "name": "python",
   "nbconvert_exporter": "python",
   "pygments_lexer": "ipython3",
   "version": "3.10.9"
  }
 },
 "nbformat": 4,
 "nbformat_minor": 5
}
