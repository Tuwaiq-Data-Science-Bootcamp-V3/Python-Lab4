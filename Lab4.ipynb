{
 "cells": [
  {
   "cell_type": "markdown",
   "id": "a7fd4ce2",
   "metadata": {},
   "source": [
    "# Pyhon-Lab4\n",
    "## Functions"
   ]
  },
  {
   "cell_type": "markdown",
   "id": "ad4c7fa4",
   "metadata": {},
   "source": [
    "Create a function that takes one parameter of type int, then it prints out the result formatted like the following pattern (if we give it 5 for example):\n",
    "\n",
    "5 4 3 2 1\n",
    "\n",
    "4 3 2 1\n",
    "\n",
    "3 2 1\n",
    "\n",
    "2 1\n",
    "\n",
    "1\n"
   ]
  },
  {
   "cell_type": "markdown",
   "id": "5d2e1953",
   "metadata": {},
   "source": [
    "## Code"
   ]
  },
  {
   "cell_type": "code",
   "execution_count": 1,
   "id": "12873e42",
   "metadata": {},
   "outputs": [
    {
     "name": "stdout",
     "output_type": "stream",
     "text": [
      "Insert number pleas: 5\n",
      "5 4 3 2 1 \n",
      "\n",
      "4 3 2 1 \n",
      "\n",
      "3 2 1 \n",
      "\n",
      "2 1 \n",
      "\n",
      "1 \n",
      "\n"
     ]
    }
   ],
   "source": [
    "num = int(input('Insert number pleas: '))  #Show message for user\n",
    "for i in range(num, 0 , -1): #for loop num is starting value, 0 is ending value, -1 is step size\n",
    "    for j in range(i ,0,-1):  #for loop in for loop starting with i \n",
    "        print (j,end=' ') # print first line of j in range\n",
    "    print('\\n') # print new line of i in range"
   ]
  },
  {
   "cell_type": "code",
   "execution_count": null,
   "id": "09730b02",
   "metadata": {},
   "outputs": [],
   "source": []
  }
 ],
 "metadata": {
  "kernelspec": {
   "display_name": "Python 3 (ipykernel)",
   "language": "python",
   "name": "python3"
  },
  "language_info": {
   "codemirror_mode": {
    "name": "ipython",
    "version": 3
   },
   "file_extension": ".py",
   "mimetype": "text/x-python",
   "name": "python",
   "nbconvert_exporter": "python",
   "pygments_lexer": "ipython3",
   "version": "3.10.9"
  }
 },
 "nbformat": 4,
 "nbformat_minor": 5
}
